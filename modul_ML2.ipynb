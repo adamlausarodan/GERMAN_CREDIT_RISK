{
  "nbformat": 4,
  "nbformat_minor": 0,
  "metadata": {
    "colab": {
      "provenance": []
    },
    "kernelspec": {
      "name": "python3",
      "display_name": "Python 3"
    },
    "language_info": {
      "name": "python"
    }
  },
  "cells": [
    {
      "cell_type": "markdown",
      "source": [
        "LANGKAH 2"
      ],
      "metadata": {
        "id": "2V_SCfwKUxr9"
      }
    },
    {
      "cell_type": "code",
      "execution_count": null,
      "metadata": {
        "id": "7GVcelr7R9NM"
      },
      "outputs": [],
      "source": [
        "import pandas as pd\n",
        "import numpy as np\n",
        "import matplotlib.pyplot as plt\n",
        "from sklearn.preprocessing import StandardScaler\n",
        "from sklearn.model_selection import train_test_split\n",
        "from sklearn.linear_model import LinearRegression"
      ]
    },
    {
      "cell_type": "markdown",
      "source": [
        "LANGKAH 3\n"
      ],
      "metadata": {
        "id": "BUufrNjLSPxE"
      }
    },
    {
      "cell_type": "code",
      "source": [
        "# Nama file sesuai dengan nama file yang Anda upload\n",
        "file_name = 'german_credit_data.csv'\n",
        "df = pd.read_csv(file_name)"
      ],
      "metadata": {
        "id": "E0t0bQYoSRA2"
      },
      "execution_count": null,
      "outputs": []
    },
    {
      "cell_type": "code",
      "source": [
        "#digunakan untuk menampilkan lima baris pertama dari DataFrame\n",
        "print(\"5 baris pertama data:\")\n",
        "print(df.head())"
      ],
      "metadata": {
        "colab": {
          "base_uri": "https://localhost:8080/"
        },
        "id": "ChsiKUi9TsuW",
        "outputId": "4417cfc7-0f11-4c6d-840d-00cbfc773b33"
      },
      "execution_count": null,
      "outputs": [
        {
          "output_type": "stream",
          "name": "stdout",
          "text": [
            "5 baris pertama data:\n",
            "   Unnamed: 0  Age     Sex  Job Housing Saving accounts Checking account  \\\n",
            "0           0   67    male    2     own             NaN           little   \n",
            "1           1   22  female    2     own          little         moderate   \n",
            "2           2   49    male    1     own          little              NaN   \n",
            "3           3   45    male    2    free          little           little   \n",
            "4           4   53    male    2    free          little           little   \n",
            "\n",
            "   Credit amount  Duration              Purpose  \n",
            "0           1169         6             radio/TV  \n",
            "1           5951        48             radio/TV  \n",
            "2           2096        12            education  \n",
            "3           7882        42  furniture/equipment  \n",
            "4           4870        24                  car  \n"
          ]
        }
      ]
    },
    {
      "cell_type": "markdown",
      "source": [
        "LANGKAH 4\n"
      ],
      "metadata": {
        "id": "wIpidonBVQiX"
      }
    },
    {
      "cell_type": "code",
      "source": [
        "#digunakan dalam pemrograman Python, khususnya dengan pustaka Pandas, untuk menampilkan informasi tentang sebuah DataFrame.\n",
        "print(\"\\nInformasi DataFrame:\")\n",
        "print(df.info())"
      ],
      "metadata": {
        "colab": {
          "base_uri": "https://localhost:8080/"
        },
        "id": "ptN7To3CVdMh",
        "outputId": "f0f0fad3-cef0-4e1a-ba7d-769d3132b898"
      },
      "execution_count": null,
      "outputs": [
        {
          "output_type": "stream",
          "name": "stdout",
          "text": [
            "\n",
            "Informasi DataFrame:\n",
            "<class 'pandas.core.frame.DataFrame'>\n",
            "RangeIndex: 1000 entries, 0 to 999\n",
            "Data columns (total 10 columns):\n",
            " #   Column            Non-Null Count  Dtype \n",
            "---  ------            --------------  ----- \n",
            " 0   Unnamed: 0        1000 non-null   int64 \n",
            " 1   Age               1000 non-null   int64 \n",
            " 2   Sex               1000 non-null   object\n",
            " 3   Job               1000 non-null   int64 \n",
            " 4   Housing           1000 non-null   object\n",
            " 5   Saving accounts   817 non-null    object\n",
            " 6   Checking account  606 non-null    object\n",
            " 7   Credit amount     1000 non-null   int64 \n",
            " 8   Duration          1000 non-null   int64 \n",
            " 9   Purpose           1000 non-null   object\n",
            "dtypes: int64(5), object(5)\n",
            "memory usage: 78.2+ KB\n",
            "None\n"
          ]
        }
      ]
    },
    {
      "cell_type": "code",
      "source": [
        "#digunakan dalam pemrograman Python dengan pustaka Pandas untuk memberikan ringkasan statistik dari DataFrame.\n",
        "print(\"\\nStatistik Deskriptif:\")\n",
        "print(df.describe())"
      ],
      "metadata": {
        "colab": {
          "base_uri": "https://localhost:8080/"
        },
        "id": "hNrve20BVorS",
        "outputId": "30ba12c3-366f-4cd3-df80-005936ace5a7"
      },
      "execution_count": null,
      "outputs": [
        {
          "output_type": "stream",
          "name": "stdout",
          "text": [
            "\n",
            "Statistik Deskriptif:\n",
            "        Unnamed: 0          Age          Job  Credit amount     Duration\n",
            "count  1000.000000  1000.000000  1000.000000    1000.000000  1000.000000\n",
            "mean    499.500000    35.546000     1.904000    3271.258000    20.903000\n",
            "std     288.819436    11.375469     0.653614    2822.736876    12.058814\n",
            "min       0.000000    19.000000     0.000000     250.000000     4.000000\n",
            "25%     249.750000    27.000000     2.000000    1365.500000    12.000000\n",
            "50%     499.500000    33.000000     2.000000    2319.500000    18.000000\n",
            "75%     749.250000    42.000000     2.000000    3972.250000    24.000000\n",
            "max     999.000000    75.000000     3.000000   18424.000000    72.000000\n"
          ]
        }
      ]
    },
    {
      "cell_type": "code",
      "source": [
        "#digunakan dalam Python dengan pustaka Pandas untuk menampilkan ukuran dari sebuah DataFrame.\n",
        "#menampilkan baris dan kolom\n",
        "print(\"\\nUkuran DataFrame (Baris, Kolom):\")\n",
        "print(df.shape)\n"
      ],
      "metadata": {
        "colab": {
          "base_uri": "https://localhost:8080/"
        },
        "id": "l_mCMWrXVsyH",
        "outputId": "b06a74d8-c660-4c23-cae0-26c1b1e8a12c"
      },
      "execution_count": null,
      "outputs": [
        {
          "output_type": "stream",
          "name": "stdout",
          "text": [
            "\n",
            "Ukuran DataFrame (Baris, Kolom):\n",
            "(1000, 10)\n"
          ]
        }
      ]
    },
    {
      "cell_type": "markdown",
      "source": [
        "LANGKAH 5\n"
      ],
      "metadata": {
        "id": "BOMnsMzjVx4E"
      }
    },
    {
      "cell_type": "code",
      "source": [
        "#digunakan dalam Python dengan pustaka Pandas untuk menampilkan nilai dari kolom tertentu dalam DataFrame.\n",
        "print(\"\\nKolom 'Credit amount':\")\n",
        "print(df['Credit amount'].head())"
      ],
      "metadata": {
        "colab": {
          "base_uri": "https://localhost:8080/"
        },
        "id": "HPVHZXBzV5f2",
        "outputId": "97b01aef-9d51-4fa0-db08-2ef6a4ef1ca7"
      },
      "execution_count": null,
      "outputs": [
        {
          "output_type": "stream",
          "name": "stdout",
          "text": [
            "\n",
            "Kolom 'Credit amount':\n",
            "0    1169\n",
            "1    5951\n",
            "2    2096\n",
            "3    7882\n",
            "4    4870\n",
            "Name: Credit amount, dtype: int64\n"
          ]
        }
      ]
    },
    {
      "cell_type": "code",
      "source": [
        "#yang berguna untuk menganalisis hubungan antara kedua variabel tersebut dan mendapatkan wawasan lebih lanjut tentang data Anda.\n",
        "print(\"\\nKolom 'Credit amount' dan 'Age':\")\n",
        "print(df[['Credit amount', 'Age']].head())"
      ],
      "metadata": {
        "colab": {
          "base_uri": "https://localhost:8080/"
        },
        "id": "jeXzBKVCWYee",
        "outputId": "dae3b6f8-08d1-48ba-86e7-5977c97ef8d7"
      },
      "execution_count": null,
      "outputs": [
        {
          "output_type": "stream",
          "name": "stdout",
          "text": [
            "\n",
            "Kolom 'Credit amount' dan 'Age':\n",
            "   Credit amount  Age\n",
            "0           1169   67\n",
            "1           5951   22\n",
            "2           2096   49\n",
            "3           7882   45\n",
            "4           4870   53\n"
          ]
        }
      ]
    },
    {
      "cell_type": "code",
      "source": [
        "# digunakan dalam Python dengan pustaka Pandas untuk menyaring dan menampilkan subset dari DataFrame berdasarkan kondisi tertentu.\n",
        "filtered_data = df[df['Duration'] > 20]\n",
        "print(\"\\nData dengan 'Duration' lebih dari 20:\")\n",
        "print(filtered_data.head())"
      ],
      "metadata": {
        "colab": {
          "base_uri": "https://localhost:8080/"
        },
        "id": "NQJgiH3iW9_P",
        "outputId": "8aeffce8-4a2d-4ced-a41d-6208cf78e1f4"
      },
      "execution_count": null,
      "outputs": [
        {
          "output_type": "stream",
          "name": "stdout",
          "text": [
            "\n",
            "Data dengan 'Duration' lebih dari 20:\n",
            "   Unnamed: 0  Age     Sex  Job Housing Saving accounts Checking account  \\\n",
            "1           1   22  female    2     own          little         moderate   \n",
            "3           3   45    male    2    free          little           little   \n",
            "4           4   53    male    2    free          little           little   \n",
            "5           5   35    male    1    free             NaN              NaN   \n",
            "6           6   53    male    2     own      quite rich              NaN   \n",
            "\n",
            "   Credit amount  Duration              Purpose  \n",
            "1           5951        48             radio/TV  \n",
            "3           7882        42  furniture/equipment  \n",
            "4           4870        24                  car  \n",
            "5           9055        36            education  \n",
            "6           2835        24  furniture/equipment  \n"
          ]
        }
      ]
    },
    {
      "cell_type": "markdown",
      "source": [
        "LANGKAH 6"
      ],
      "metadata": {
        "id": "s_Lg5EYmXrSC"
      }
    },
    {
      "cell_type": "code",
      "source": [
        "#digunakan dalam Python dengan pustaka Pandas untuk membersihkan DataFrame dengan menghapus baris yang memiliki nilai yang hilang (missing values).\n",
        "df_cleaned = df.dropna()\n",
        "print(\"\\nData setelah menghapus baris dengan nilai yang hilang:\")\n",
        "print(df_cleaned.info())\n"
      ],
      "metadata": {
        "colab": {
          "base_uri": "https://localhost:8080/"
        },
        "id": "vnnAWdruXvpn",
        "outputId": "1896e27d-4e62-40b2-b3fa-79c72585788b"
      },
      "execution_count": null,
      "outputs": [
        {
          "output_type": "stream",
          "name": "stdout",
          "text": [
            "\n",
            "Data setelah menghapus baris dengan nilai yang hilang:\n",
            "<class 'pandas.core.frame.DataFrame'>\n",
            "Index: 522 entries, 1 to 999\n",
            "Data columns (total 10 columns):\n",
            " #   Column            Non-Null Count  Dtype \n",
            "---  ------            --------------  ----- \n",
            " 0   Unnamed: 0        522 non-null    int64 \n",
            " 1   Age               522 non-null    int64 \n",
            " 2   Sex               522 non-null    object\n",
            " 3   Job               522 non-null    int64 \n",
            " 4   Housing           522 non-null    object\n",
            " 5   Saving accounts   522 non-null    object\n",
            " 6   Checking account  522 non-null    object\n",
            " 7   Credit amount     522 non-null    int64 \n",
            " 8   Duration          522 non-null    int64 \n",
            " 9   Purpose           522 non-null    object\n",
            "dtypes: int64(5), object(5)\n",
            "memory usage: 44.9+ KB\n",
            "None\n"
          ]
        }
      ]
    },
    {
      "cell_type": "code",
      "source": [
        "print(df)"
      ],
      "metadata": {
        "colab": {
          "base_uri": "https://localhost:8080/"
        },
        "id": "JXB1sUYWB_WU",
        "outputId": "b12f4dca-81a7-4125-9110-bb3c1850ec0e"
      },
      "execution_count": null,
      "outputs": [
        {
          "output_type": "stream",
          "name": "stdout",
          "text": [
            "     Unnamed: 0  Age     Sex  Job Housing Saving accounts Checking account  \\\n",
            "0             0   67    male    2     own             NaN           little   \n",
            "1             1   22  female    2     own          little         moderate   \n",
            "2             2   49    male    1     own          little              NaN   \n",
            "3             3   45    male    2    free          little           little   \n",
            "4             4   53    male    2    free          little           little   \n",
            "..          ...  ...     ...  ...     ...             ...              ...   \n",
            "995         995   31  female    1     own          little              NaN   \n",
            "996         996   40    male    3     own          little           little   \n",
            "997         997   38    male    2     own          little              NaN   \n",
            "998         998   23    male    2    free          little           little   \n",
            "999         999   27    male    2     own        moderate         moderate   \n",
            "\n",
            "     Credit amount  Duration              Purpose  \n",
            "0             1169         6             radio/TV  \n",
            "1             5951        48             radio/TV  \n",
            "2             2096        12            education  \n",
            "3             7882        42  furniture/equipment  \n",
            "4             4870        24                  car  \n",
            "..             ...       ...                  ...  \n",
            "995           1736        12  furniture/equipment  \n",
            "996           3857        30                  car  \n",
            "997            804        12             radio/TV  \n",
            "998           1845        45             radio/TV  \n",
            "999           4576        45                  car  \n",
            "\n",
            "[1000 rows x 10 columns]\n"
          ]
        }
      ]
    },
    {
      "cell_type": "code",
      "source": [
        "df['Age'] = pd.to_numeric(df['Age'], errors='coerce') # Mengubah kolom ke tipe numerik\n",
        "df['Age'] = df['Age'].fillna(df['Age'].mean())\n",
        "print(\"\\nData setelah mengisi nilai yang hilang pada kolom 'Age':\")\n",
        "print(df.head())\n",
        "#DataFrame tidak hanya terformat dengan benar sebagai tipe data numerik tetapi juga tidak memiliki nilai yang hilang, sehingga siap untuk analisis lebih lanjut."
      ],
      "metadata": {
        "colab": {
          "base_uri": "https://localhost:8080/"
        },
        "id": "3iDldC0JCoN0",
        "outputId": "068807d0-bfa5-4ae9-d0a5-fc7771862bd6"
      },
      "execution_count": null,
      "outputs": [
        {
          "output_type": "stream",
          "name": "stdout",
          "text": [
            "\n",
            "Data setelah mengisi nilai yang hilang pada kolom 'Age':\n",
            "   Unnamed: 0  Age     Sex  Job Housing Saving accounts Checking account  \\\n",
            "0           0   67    male    2     own             NaN           little   \n",
            "1           1   22  female    2     own          little         moderate   \n",
            "2           2   49    male    1     own          little              NaN   \n",
            "3           3   45    male    2    free          little           little   \n",
            "4           4   53    male    2    free          little           little   \n",
            "\n",
            "   Credit amount  Duration              Purpose  \n",
            "0           1169         6             radio/TV  \n",
            "1           5951        48             radio/TV  \n",
            "2           2096        12            education  \n",
            "3           7882        42  furniture/equipment  \n",
            "4           4870        24                  car  \n"
          ]
        }
      ]
    },
    {
      "cell_type": "markdown",
      "source": [
        "LANGKAH 7"
      ],
      "metadata": {
        "id": "agbhNTraC6y-"
      }
    },
    {
      "cell_type": "code",
      "source": [
        "#digunakan dalam Python dengan pustaka Pandas untuk menghitung rata-rata dari kolom \"Credit amount\" berdasarkan grup tertentu.\n",
        "grouped_data = df.groupby('Credit amount')['Credit amount'].mean()\n",
        "print(\"\\nRata-rata 'Credit amount' per jumlah 'Credit amount':\")\n",
        "print(grouped_data)\n"
      ],
      "metadata": {
        "colab": {
          "base_uri": "https://localhost:8080/"
        },
        "id": "mjxKa2Y-DBe4",
        "outputId": "ae82800c-d548-43f1-b64a-93d194efd0c4"
      },
      "execution_count": null,
      "outputs": [
        {
          "output_type": "stream",
          "name": "stdout",
          "text": [
            "\n",
            "Rata-rata 'Credit amount' per jumlah 'Credit amount':\n",
            "Credit amount\n",
            "250        250.0\n",
            "276        276.0\n",
            "338        338.0\n",
            "339        339.0\n",
            "343        343.0\n",
            "          ...   \n",
            "15653    15653.0\n",
            "15672    15672.0\n",
            "15857    15857.0\n",
            "15945    15945.0\n",
            "18424    18424.0\n",
            "Name: Credit amount, Length: 921, dtype: float64\n"
          ]
        }
      ]
    },
    {
      "cell_type": "code",
      "source": [
        "#digunakan dalam Python dengan pustaka Pandas untuk mengurutkan DataFrame berdasarkan kolom tertentu.\n",
        "sorted_df = df.sort_values(by='Purpose', ascending=False)\n",
        "print(\"\\nData diurutkan berdasarkan 'purpose' secara descending:\")\n",
        "print(sorted_df.head())"
      ],
      "metadata": {
        "colab": {
          "base_uri": "https://localhost:8080/"
        },
        "id": "VMbDfWRwEb_6",
        "outputId": "ddda83d6-a19a-4c92-b22e-453dc6d63071"
      },
      "execution_count": null,
      "outputs": [
        {
          "output_type": "stream",
          "name": "stdout",
          "text": [
            "\n",
            "Data diurutkan berdasarkan 'purpose' secara descending:\n",
            "     Unnamed: 0  Age     Sex  Job Housing Saving accounts Checking account  \\\n",
            "915         915   32  female    3     own          little         moderate   \n",
            "818         818   43    male    3     own          little           little   \n",
            "83           83   58  female    1     own          little           little   \n",
            "287         287   31    male    3    free        moderate         moderate   \n",
            "594         594   40    male    3     own             NaN           little   \n",
            "\n",
            "     Credit amount  Duration          Purpose  \n",
            "915          18424        48  vacation/others  \n",
            "818          15857        36  vacation/others  \n",
            "83            1755        24  vacation/others  \n",
            "287           7582        48  vacation/others  \n",
            "594           1358        24  vacation/others  \n"
          ]
        }
      ]
    },
    {
      "cell_type": "markdown",
      "source": [
        "LANGKAH 8"
      ],
      "metadata": {
        "id": "eOiPH-wqEvor"
      }
    },
    {
      "cell_type": "code",
      "source": [
        "#untuk menghitung dan memvisualisasikan frekuensi dari setiap kategori dalam kolom \"Purpose\"\n",
        "#dari DataFrame menggunakan pustaka Pandas dan Matplotlib. Berikut adalah penjelasan dari setiap langkah:\n",
        "df['Purpose'].value_counts().plot(kind='bar')\n",
        "plt.title(' Purpose ')\n",
        "plt.xlabel('Jumlah payment')\n",
        "plt.ylabel('jumlah')\n",
        "plt.show()"
      ],
      "metadata": {
        "colab": {
          "base_uri": "https://localhost:8080/",
          "height": 600
        },
        "id": "87ICPLJEE1Dt",
        "outputId": "9533d3c0-ccbc-4aeb-d966-cfc9f5191649"
      },
      "execution_count": null,
      "outputs": [
        {
          "output_type": "display_data",
          "data": {
            "text/plain": [
              "<Figure size 640x480 with 1 Axes>"
            ],
            "image/png": "[encoded data removed]"
          },
          "metadata": {}
        }
      ]
    },
    {
      "cell_type": "code",
      "source": [
        "#untuk membuat plot sebar (scatter plot) yang menunjukkan hubungan antara dua variabel dalam DataFrame, yaitu \"Credit amount\" dan \"Duration\"\n",
        "plt.scatter(df['Credit amount'], df['Duration'])\n",
        "plt.title('Hubungan antara Credit amount dan Duration')\n",
        "plt.xlabel('Credit amount')\n",
        "plt.ylabel('Duration')\n",
        "plt.show()\n"
      ],
      "metadata": {
        "colab": {
          "base_uri": "https://localhost:8080/",
          "height": 472
        },
        "id": "Wp_Tc9yOFP2f",
        "outputId": "ce016966-3a36-417a-9861-3eefcf77b0c7"
      },
      "execution_count": null,
      "outputs": [
        {
          "output_type": "display_data",
          "data": {
            "text/plain": [
              "<Figure size 640x480 with 1 Axes>"
            ],
            "image/png": "[encoded data removed]"
          },
          "metadata": {}
        }
      ]
    },
    {
      "cell_type": "markdown",
      "source": [
        "LANGKAH 9"
      ],
      "metadata": {
        "id": "kOJaNmDIFhd3"
      }
    },
    {
      "cell_type": "code",
      "source": [
        "print(df)"
      ],
      "metadata": {
        "colab": {
          "base_uri": "https://localhost:8080/"
        },
        "id": "wZ2KIsa7FmFw",
        "outputId": "398dfc2d-4597-4c5d-c748-f5d7eee1be7d"
      },
      "execution_count": null,
      "outputs": [
        {
          "output_type": "stream",
          "name": "stdout",
          "text": [
            "     Unnamed: 0  Age     Sex  Job Housing Saving accounts Checking account  \\\n",
            "0             0   67    male    2     own             NaN           little   \n",
            "1             1   22  female    2     own          little         moderate   \n",
            "2             2   49    male    1     own          little              NaN   \n",
            "3             3   45    male    2    free          little           little   \n",
            "4             4   53    male    2    free          little           little   \n",
            "..          ...  ...     ...  ...     ...             ...              ...   \n",
            "995         995   31  female    1     own          little              NaN   \n",
            "996         996   40    male    3     own          little           little   \n",
            "997         997   38    male    2     own          little              NaN   \n",
            "998         998   23    male    2    free          little           little   \n",
            "999         999   27    male    2     own        moderate         moderate   \n",
            "\n",
            "     Credit amount  Duration              Purpose  \n",
            "0             1169         6             radio/TV  \n",
            "1             5951        48             radio/TV  \n",
            "2             2096        12            education  \n",
            "3             7882        42  furniture/equipment  \n",
            "4             4870        24                  car  \n",
            "..             ...       ...                  ...  \n",
            "995           1736        12  furniture/equipment  \n",
            "996           3857        30                  car  \n",
            "997            804        12             radio/TV  \n",
            "998           1845        45             radio/TV  \n",
            "999           4576        45                  car  \n",
            "\n",
            "[1000 rows x 10 columns]\n"
          ]
        }
      ]
    },
    {
      "cell_type": "code",
      "source": [
        "#digunakan untuk melakukan konversi variabel kategorikal dalam DataFrame menjadi variabel dummy (one-hot encoding) menggunakan pustaka Panda\n",
        "df = pd.get_dummies(df, columns=['Saving accounts','Age','Housing','Sex','Checking account','Purpose'], drop_first=True)\n",
        "print(\"\\nData setelah konversi kolom 'payment_method' menjadi variabel dummy:\")\n",
        "print(df.head())"
      ],
      "metadata": {
        "colab": {
          "base_uri": "https://localhost:8080/"
        },
        "id": "tEScPTvaF-Qa",
        "outputId": "81706a26-c5d5-462a-830e-c085cf100aa9"
      },
      "execution_count": null,
      "outputs": [
        {
          "output_type": "stream",
          "name": "stdout",
          "text": [
            "\n",
            "Data setelah konversi kolom 'payment_method' menjadi variabel dummy:\n",
            "   Unnamed: 0  Job  Credit amount  Duration  Saving accounts_moderate  \\\n",
            "0           0    2           1169         6                     False   \n",
            "1           1    2           5951        48                     False   \n",
            "2           2    1           2096        12                     False   \n",
            "3           3    2           7882        42                     False   \n",
            "4           4    2           4870        24                     False   \n",
            "\n",
            "   Saving accounts_quite rich  Saving accounts_rich  Age_20  Age_21  Age_22  \\\n",
            "0                       False                 False   False   False   False   \n",
            "1                       False                 False   False   False    True   \n",
            "2                       False                 False   False   False   False   \n",
            "3                       False                 False   False   False   False   \n",
            "4                       False                 False   False   False   False   \n",
            "\n",
            "   ...  Sex_male  Checking account_moderate  Checking account_rich  \\\n",
            "0  ...      True                      False                  False   \n",
            "1  ...     False                       True                  False   \n",
            "2  ...      True                      False                  False   \n",
            "3  ...      True                      False                  False   \n",
            "4  ...      True                      False                  False   \n",
            "\n",
            "   Purpose_car  Purpose_domestic appliances  Purpose_education  \\\n",
            "0        False                        False              False   \n",
            "1        False                        False              False   \n",
            "2        False                        False               True   \n",
            "3        False                        False              False   \n",
            "4         True                        False              False   \n",
            "\n",
            "   Purpose_furniture/equipment  Purpose_radio/TV  Purpose_repairs  \\\n",
            "0                        False              True            False   \n",
            "1                        False              True            False   \n",
            "2                        False             False            False   \n",
            "3                         True             False            False   \n",
            "4                        False             False            False   \n",
            "\n",
            "   Purpose_vacation/others  \n",
            "0                    False  \n",
            "1                    False  \n",
            "2                    False  \n",
            "3                    False  \n",
            "4                    False  \n",
            "\n",
            "[5 rows x 71 columns]\n"
          ]
        }
      ]
    },
    {
      "cell_type": "code",
      "source": [
        "#digunakan untuk mempersiapkan data sebelum pelatihan model machine learning.\n",
        "X = df.drop('Credit amount', axis=1)\n",
        "y = df['Credit amount']\n",
        "X_train, X_test, y_train, y_test = train_test_split(X, y, test_size=0.2, random_state=42)"
      ],
      "metadata": {
        "id": "HNRREYP0GS5o"
      },
      "execution_count": null,
      "outputs": []
    },
    {
      "cell_type": "markdown",
      "source": [
        "LANGKAH 10\n",
        "\n"
      ],
      "metadata": {
        "id": "ziVN1dueG0ei"
      }
    },
    {
      "cell_type": "code",
      "source": [
        "#berikan digunakan untuk membuat dan melatih model regresi linier menggunakan pustaka scikit-learn\n",
        "model = LinearRegression()\n",
        "model.fit(X_train, y_train)"
      ],
      "metadata": {
        "colab": {
          "base_uri": "https://localhost:8080/",
          "height": 80
        },
        "id": "20f99BixG3uN",
        "outputId": "4fedb29b-6795-4998-f4dc-7433ff9e8e9d"
      },
      "execution_count": null,
      "outputs": [
        {
          "output_type": "execute_result",
          "data": {
            "text/plain": [
              "LinearRegression()"
            ],
            "text/html": [
              "<style>#sk-container-id-1 {\n",
              "  /* Definition of color scheme common for light and dark mode */\n",
              "  --sklearn-color-text: black;\n",
              "  --sklearn-color-line: gray;\n",
              "  /* Definition of color scheme for unfitted estimators */\n",
              "  --sklearn-color-unfitted-level-0: #fff5e6;\n",
              "  --sklearn-color-unfitted-level-1: #f6e4d2;\n",
              "  --sklearn-color-unfitted-level-2: #ffe0b3;\n",
              "  --sklearn-color-unfitted-level-3: chocolate;\n",
              "  /* Definition of color scheme for fitted estimators */\n",
              "  --sklearn-color-fitted-level-0: #f0f8ff;\n",
              "  --sklearn-color-fitted-level-1: #d4ebff;\n",
              "  --sklearn-color-fitted-level-2: #b3dbfd;\n",
              "  --sklearn-color-fitted-level-3: cornflowerblue;\n",
              "\n",
              "  /* Specific color for light theme */\n",
              "  --sklearn-color-text-on-default-background: var(--sg-text-color, var(--theme-code-foreground, var(--jp-content-font-color1, black)));\n",
              "  --sklearn-color-background: var(--sg-background-color, var(--theme-background, var(--jp-layout-color0, white)));\n",
              "  --sklearn-color-border-box: var(--sg-text-color, var(--theme-code-foreground, var(--jp-content-font-color1, black)));\n",
              "  --sklearn-color-icon: #696969;\n",
              "\n",
              "  @media (prefers-color-scheme: dark) {\n",
              "    /* Redefinition of color scheme for dark theme */\n",
              "    --sklearn-color-text-on-default-background: var(--sg-text-color, var(--theme-code-foreground, var(--jp-content-font-color1, white)));\n",
              "    --sklearn-color-background: var(--sg-background-color, var(--theme-background, var(--jp-layout-color0, #111)));\n",
              "    --sklearn-color-border-box: var(--sg-text-color, var(--theme-code-foreground, var(--jp-content-font-color1, white)));\n",
              "    --sklearn-color-icon: #878787;\n",
              "  }\n",
              "}\n",
              "\n",
              "#sk-container-id-1 {\n",
              "  color: var(--sklearn-color-text);\n",
              "}\n",
              "\n",
              "#sk-container-id-1 pre {\n",
              "  padding: 0;\n",
              "}\n",
              "\n",
              "#sk-container-id-1 input.sk-hidden--visually {\n",
              "  border: 0;\n",
              "  clip: rect(1px 1px 1px 1px);\n",
              "  clip: rect(1px, 1px, 1px, 1px);\n",
              "  height: 1px;\n",
              "  margin: -1px;\n",
              "  overflow: hidden;\n",
              "  padding: 0;\n",
              "  position: absolute;\n",
              "  width: 1px;\n",
              "}\n",
              "\n",
              "#sk-container-id-1 div.sk-dashed-wrapped {\n",
              "  border: 1px dashed var(--sklearn-color-line);\n",
              "  margin: 0 0.4em 0.5em 0.4em;\n",
              "  box-sizing: border-box;\n",
              "  padding-bottom: 0.4em;\n",
              "  background-color: var(--sklearn-color-background);\n",
              "}\n",
              "\n",
              "#sk-container-id-1 div.sk-container {\n",
              "  /* jupyter's `normalize.less` sets `[hidden] { display: none; }`\n",
              "     but bootstrap.min.css set `[hidden] { display: none !important; }`\n",
              "     so we also need the `!important` here to be able to override the\n",
              "     default hidden behavior on the sphinx rendered scikit-learn.org.\n",
              "     See: https://github.com/scikit-learn/scikit-learn/issues/21755 */\n",
              "  display: inline-block !important;\n",
              "  position: relative;\n",
              "}\n",
              "\n",
              "#sk-container-id-1 div.sk-text-repr-fallback {\n",
              "  display: none;\n",
              "}\n",
              "\n",
              "div.sk-parallel-item,\n",
              "div.sk-serial,\n",
              "div.sk-item {\n",
              "  /* draw centered vertical line to link estimators */\n",
              "  background-image: linear-gradient(var(--sklearn-color-text-on-default-background), var(--sklearn-color-text-on-default-background));\n",
              "  background-size: 2px 100%;\n",
              "  background-repeat: no-repeat;\n",
              "  background-position: center center;\n",
              "}\n",
              "\n",
              "/* Parallel-specific style estimator block */\n",
              "\n",
              "#sk-container-id-1 div.sk-parallel-item::after {\n",
              "  content: \"\";\n",
              "  width: 100%;\n",
              "  border-bottom: 2px solid var(--sklearn-color-text-on-default-background);\n",
              "  flex-grow: 1;\n",
              "}\n",
              "\n",
              "#sk-container-id-1 div.sk-parallel {\n",
              "  display: flex;\n",
              "  align-items: stretch;\n",
              "  justify-content: center;\n",
              "  background-color: var(--sklearn-color-background);\n",
              "  position: relative;\n",
              "}\n",
              "\n",
              "#sk-container-id-1 div.sk-parallel-item {\n",
              "  display: flex;\n",
              "  flex-direction: column;\n",
              "}\n",
              "\n",
              "#sk-container-id-1 div.sk-parallel-item:first-child::after {\n",
              "  align-self: flex-end;\n",
              "  width: 50%;\n",
              "}\n",
              "\n",
              "#sk-container-id-1 div.sk-parallel-item:last-child::after {\n",
              "  align-self: flex-start;\n",
              "  width: 50%;\n",
              "}\n",
              "\n",
              "#sk-container-id-1 div.sk-parallel-item:only-child::after {\n",
              "  width: 0;\n",
              "}\n",
              "\n",
              "/* Serial-specific style estimator block */\n",
              "\n",
              "#sk-container-id-1 div.sk-serial {\n",
              "  display: flex;\n",
              "  flex-direction: column;\n",
              "  align-items: center;\n",
              "  background-color: var(--sklearn-color-background);\n",
              "  padding-right: 1em;\n",
              "  padding-left: 1em;\n",
              "}\n",
              "\n",
              "\n",
              "/* Toggleable style: style used for estimator/Pipeline/ColumnTransformer box that is\n",
              "clickable and can be expanded/collapsed.\n",
              "- Pipeline and ColumnTransformer use this feature and define the default style\n",
              "- Estimators will overwrite some part of the style using the `sk-estimator` class\n",
              "*/\n",
              "\n",
              "/* Pipeline and ColumnTransformer style (default) */\n",
              "\n",
              "#sk-container-id-1 div.sk-toggleable {\n",
              "  /* Default theme specific background. It is overwritten whether we have a\n",
              "  specific estimator or a Pipeline/ColumnTransformer */\n",
              "  background-color: var(--sklearn-color-background);\n",
              "}\n",
              "\n",
              "/* Toggleable label */\n",
              "#sk-container-id-1 label.sk-toggleable__label {\n",
              "  cursor: pointer;\n",
              "  display: block;\n",
              "  width: 100%;\n",
              "  margin-bottom: 0;\n",
              "  padding: 0.5em;\n",
              "  box-sizing: border-box;\n",
              "  text-align: center;\n",
              "}\n",
              "\n",
              "#sk-container-id-1 label.sk-toggleable__label-arrow:before {\n",
              "  /* Arrow on the left of the label */\n",
              "  content: \"▸\";\n",
              "  float: left;\n",
              "  margin-right: 0.25em;\n",
              "  color: var(--sklearn-color-icon);\n",
              "}\n",
              "\n",
              "#sk-container-id-1 label.sk-toggleable__label-arrow:hover:before {\n",
              "  color: var(--sklearn-color-text);\n",
              "}\n",
              "\n",
              "/* Toggleable content - dropdown */\n",
              "\n",
              "#sk-container-id-1 div.sk-toggleable__content {\n",
              "  max-height: 0;\n",
              "  max-width: 0;\n",
              "  overflow: hidden;\n",
              "  text-align: left;\n",
              "  /* unfitted */\n",
              "  background-color: var(--sklearn-color-unfitted-level-0);\n",
              "}\n",
              "\n",
              "#sk-container-id-1 div.sk-toggleable__content.fitted {\n",
              "  /* fitted */\n",
              "  background-color: var(--sklearn-color-fitted-level-0);\n",
              "}\n",
              "\n",
              "#sk-container-id-1 div.sk-toggleable__content pre {\n",
              "  margin: 0.2em;\n",
              "  border-radius: 0.25em;\n",
              "  color: var(--sklearn-color-text);\n",
              "  /* unfitted */\n",
              "  background-color: var(--sklearn-color-unfitted-level-0);\n",
              "}\n",
              "\n",
              "#sk-container-id-1 div.sk-toggleable__content.fitted pre {\n",
              "  /* unfitted */\n",
              "  background-color: var(--sklearn-color-fitted-level-0);\n",
              "}\n",
              "\n",
              "#sk-container-id-1 input.sk-toggleable__control:checked~div.sk-toggleable__content {\n",
              "  /* Expand drop-down */\n",
              "  max-height: 200px;\n",
              "  max-width: 100%;\n",
              "  overflow: auto;\n",
              "}\n",
              "\n",
              "#sk-container-id-1 input.sk-toggleable__control:checked~label.sk-toggleable__label-arrow:before {\n",
              "  content: \"▾\";\n",
              "}\n",
              "\n",
              "/* Pipeline/ColumnTransformer-specific style */\n",
              "\n",
              "#sk-container-id-1 div.sk-label input.sk-toggleable__control:checked~label.sk-toggleable__label {\n",
              "  color: var(--sklearn-color-text);\n",
              "  background-color: var(--sklearn-color-unfitted-level-2);\n",
              "}\n",
              "\n",
              "#sk-container-id-1 div.sk-label.fitted input.sk-toggleable__control:checked~label.sk-toggleable__label {\n",
              "  background-color: var(--sklearn-color-fitted-level-2);\n",
              "}\n",
              "\n",
              "/* Estimator-specific style */\n",
              "\n",
              "/* Colorize estimator box */\n",
              "#sk-container-id-1 div.sk-estimator input.sk-toggleable__control:checked~label.sk-toggleable__label {\n",
              "  /* unfitted */\n",
              "  background-color: var(--sklearn-color-unfitted-level-2);\n",
              "}\n",
              "\n",
              "#sk-container-id-1 div.sk-estimator.fitted input.sk-toggleable__control:checked~label.sk-toggleable__label {\n",
              "  /* fitted */\n",
              "  background-color: var(--sklearn-color-fitted-level-2);\n",
              "}\n",
              "\n",
              "#sk-container-id-1 div.sk-label label.sk-toggleable__label,\n",
              "#sk-container-id-1 div.sk-label label {\n",
              "  /* The background is the default theme color */\n",
              "  color: var(--sklearn-color-text-on-default-background);\n",
              "}\n",
              "\n",
              "/* On hover, darken the color of the background */\n",
              "#sk-container-id-1 div.sk-label:hover label.sk-toggleable__label {\n",
              "  color: var(--sklearn-color-text);\n",
              "  background-color: var(--sklearn-color-unfitted-level-2);\n",
              "}\n",
              "\n",
              "/* Label box, darken color on hover, fitted */\n",
              "#sk-container-id-1 div.sk-label.fitted:hover label.sk-toggleable__label.fitted {\n",
              "  color: var(--sklearn-color-text);\n",
              "  background-color: var(--sklearn-color-fitted-level-2);\n",
              "}\n",
              "\n",
              "/* Estimator label */\n",
              "\n",
              "#sk-container-id-1 div.sk-label label {\n",
              "  font-family: monospace;\n",
              "  font-weight: bold;\n",
              "  display: inline-block;\n",
              "  line-height: 1.2em;\n",
              "}\n",
              "\n",
              "#sk-container-id-1 div.sk-label-container {\n",
              "  text-align: center;\n",
              "}\n",
              "\n",
              "/* Estimator-specific */\n",
              "#sk-container-id-1 div.sk-estimator {\n",
              "  font-family: monospace;\n",
              "  border: 1px dotted var(--sklearn-color-border-box);\n",
              "  border-radius: 0.25em;\n",
              "  box-sizing: border-box;\n",
              "  margin-bottom: 0.5em;\n",
              "  /* unfitted */\n",
              "  background-color: var(--sklearn-color-unfitted-level-0);\n",
              "}\n",
              "\n",
              "#sk-container-id-1 div.sk-estimator.fitted {\n",
              "  /* fitted */\n",
              "  background-color: var(--sklearn-color-fitted-level-0);\n",
              "}\n",
              "\n",
              "/* on hover */\n",
              "#sk-container-id-1 div.sk-estimator:hover {\n",
              "  /* unfitted */\n",
              "  background-color: var(--sklearn-color-unfitted-level-2);\n",
              "}\n",
              "\n",
              "#sk-container-id-1 div.sk-estimator.fitted:hover {\n",
              "  /* fitted */\n",
              "  background-color: var(--sklearn-color-fitted-level-2);\n",
              "}\n",
              "\n",
              "/* Specification for estimator info (e.g. \"i\" and \"?\") */\n",
              "\n",
              "/* Common style for \"i\" and \"?\" */\n",
              "\n",
              ".sk-estimator-doc-link,\n",
              "a:link.sk-estimator-doc-link,\n",
              "a:visited.sk-estimator-doc-link {\n",
              "  float: right;\n",
              "  font-size: smaller;\n",
              "  line-height: 1em;\n",
              "  font-family: monospace;\n",
              "  background-color: var(--sklearn-color-background);\n",
              "  border-radius: 1em;\n",
              "  height: 1em;\n",
              "  width: 1em;\n",
              "  text-decoration: none !important;\n",
              "  margin-left: 1ex;\n",
              "  /* unfitted */\n",
              "  border: var(--sklearn-color-unfitted-level-1) 1pt solid;\n",
              "  color: var(--sklearn-color-unfitted-level-1);\n",
              "}\n",
              "\n",
              ".sk-estimator-doc-link.fitted,\n",
              "a:link.sk-estimator-doc-link.fitted,\n",
              "a:visited.sk-estimator-doc-link.fitted {\n",
              "  /* fitted */\n",
              "  border: var(--sklearn-color-fitted-level-1) 1pt solid;\n",
              "  color: var(--sklearn-color-fitted-level-1);\n",
              "}\n",
              "\n",
              "/* On hover */\n",
              "div.sk-estimator:hover .sk-estimator-doc-link:hover,\n",
              ".sk-estimator-doc-link:hover,\n",
              "div.sk-label-container:hover .sk-estimator-doc-link:hover,\n",
              ".sk-estimator-doc-link:hover {\n",
              "  /* unfitted */\n",
              "  background-color: var(--sklearn-color-unfitted-level-3);\n",
              "  color: var(--sklearn-color-background);\n",
              "  text-decoration: none;\n",
              "}\n",
              "\n",
              "div.sk-estimator.fitted:hover .sk-estimator-doc-link.fitted:hover,\n",
              ".sk-estimator-doc-link.fitted:hover,\n",
              "div.sk-label-container:hover .sk-estimator-doc-link.fitted:hover,\n",
              ".sk-estimator-doc-link.fitted:hover {\n",
              "  /* fitted */\n",
              "  background-color: var(--sklearn-color-fitted-level-3);\n",
              "  color: var(--sklearn-color-background);\n",
              "  text-decoration: none;\n",
              "}\n",
              "\n",
              "/* Span, style for the box shown on hovering the info icon */\n",
              ".sk-estimator-doc-link span {\n",
              "  display: none;\n",
              "  z-index: 9999;\n",
              "  position: relative;\n",
              "  font-weight: normal;\n",
              "  right: .2ex;\n",
              "  padding: .5ex;\n",
              "  margin: .5ex;\n",
              "  width: min-content;\n",
              "  min-width: 20ex;\n",
              "  max-width: 50ex;\n",
              "  color: var(--sklearn-color-text);\n",
              "  box-shadow: 2pt 2pt 4pt #999;\n",
              "  /* unfitted */\n",
              "  background: var(--sklearn-color-unfitted-level-0);\n",
              "  border: .5pt solid var(--sklearn-color-unfitted-level-3);\n",
              "}\n",
              "\n",
              ".sk-estimator-doc-link.fitted span {\n",
              "  /* fitted */\n",
              "  background: var(--sklearn-color-fitted-level-0);\n",
              "  border: var(--sklearn-color-fitted-level-3);\n",
              "}\n",
              "\n",
              ".sk-estimator-doc-link:hover span {\n",
              "  display: block;\n",
              "}\n",
              "\n",
              "/* \"?\"-specific style due to the `<a>` HTML tag */\n",
              "\n",
              "#sk-container-id-1 a.estimator_doc_link {\n",
              "  float: right;\n",
              "  font-size: 1rem;\n",
              "  line-height: 1em;\n",
              "  font-family: monospace;\n",
              "  background-color: var(--sklearn-color-background);\n",
              "  border-radius: 1rem;\n",
              "  height: 1rem;\n",
              "  width: 1rem;\n",
              "  text-decoration: none;\n",
              "  /* unfitted */\n",
              "  color: var(--sklearn-color-unfitted-level-1);\n",
              "  border: var(--sklearn-color-unfitted-level-1) 1pt solid;\n",
              "}\n",
              "\n",
              "#sk-container-id-1 a.estimator_doc_link.fitted {\n",
              "  /* fitted */\n",
              "  border: var(--sklearn-color-fitted-level-1) 1pt solid;\n",
              "  color: var(--sklearn-color-fitted-level-1);\n",
              "}\n",
              "\n",
              "/* On hover */\n",
              "#sk-container-id-1 a.estimator_doc_link:hover {\n",
              "  /* unfitted */\n",
              "  background-color: var(--sklearn-color-unfitted-level-3);\n",
              "  color: var(--sklearn-color-background);\n",
              "  text-decoration: none;\n",
              "}\n",
              "\n",
              "#sk-container-id-1 a.estimator_doc_link.fitted:hover {\n",
              "  /* fitted */\n",
              "  background-color: var(--sklearn-color-fitted-level-3);\n",
              "}\n",
              "</style><div id=\"sk-container-id-1\" class=\"sk-top-container\"><div class=\"sk-text-repr-fallback\"><pre>LinearRegression()</pre><b>In a Jupyter environment, please rerun this cell to show the HTML representation or trust the notebook. <br />On GitHub, the HTML representation is unable to render, please try loading this page with nbviewer.org.</b></div><div class=\"sk-container\" hidden><div class=\"sk-item\"><div class=\"sk-estimator fitted sk-toggleable\"><input class=\"sk-toggleable__control sk-hidden--visually\" id=\"sk-estimator-id-1\" type=\"checkbox\" checked><label for=\"sk-estimator-id-1\" class=\"sk-toggleable__label fitted sk-toggleable__label-arrow fitted\">&nbsp;&nbsp;LinearRegression<a class=\"sk-estimator-doc-link fitted\" rel=\"noreferrer\" target=\"_blank\" href=\"https://scikit-learn.org/1.5/modules/generated/sklearn.linear_model.LinearRegression.html\">?<span>Documentation for LinearRegression</span></a><span class=\"sk-estimator-doc-link fitted\">i<span>Fitted</span></span></label><div class=\"sk-toggleable__content fitted\"><pre>LinearRegression()</pre></div> </div></div></div></div>"
            ]
          },
          "metadata": {},
          "execution_count": 35
        }
      ]
    },
    {
      "cell_type": "code",
      "source": [
        "#untuk melakukan prediksi menggunakan model regresi linier yang telah dilatih dan mengevaluasi kinerja model tersebu\n",
        "y_pred = model.predict(X_test)\n",
        "from sklearn.metrics import mean_squared_error, r2_score\n",
        "print(\"\\nMean Squared Error:\", mean_squared_error(y_test, y_pred))\n",
        "print(\"R^2 Score:\", r2_score(y_test, y_pred))"
      ],
      "metadata": {
        "colab": {
          "base_uri": "https://localhost:8080/"
        },
        "id": "_ftM07sRIaQE",
        "outputId": "038244ac-878c-4465-c264-89d04485d3f9"
      },
      "execution_count": null,
      "outputs": [
        {
          "output_type": "stream",
          "name": "stdout",
          "text": [
            "\n",
            "Mean Squared Error: 4334886.750677341\n",
            "R^2 Score: 0.2874937499159538\n"
          ]
        }
      ]
    }
  ]
}